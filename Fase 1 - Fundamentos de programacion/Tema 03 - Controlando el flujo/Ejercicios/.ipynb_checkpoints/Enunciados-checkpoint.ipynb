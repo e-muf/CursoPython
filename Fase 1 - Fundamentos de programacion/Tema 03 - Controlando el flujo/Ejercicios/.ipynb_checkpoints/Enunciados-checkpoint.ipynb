{
 "cells": [
  {
   "cell_type": "markdown",
   "metadata": {},
   "source": [
    "# Tema 03: Control de flujo (Enunciados)\n",
    "*Nota: Estos ejercicios son optativos para hacer al final de la unidad y están pensados para apoyar tu aprendizaje*."
   ]
  },
  {
   "cell_type": "markdown",
   "metadata": {},
   "source": [
    "**1) Realiza un programa que lea dos números por teclado y permita elegir entre 3 opciones en un menú:** \n",
    "* Mostrar una suma de los dos números\n",
    "* Mostrar una resta de los dos números (el primero menos el segundo)\n",
    "* Mostrar una multiplicación de los dos números\n",
    "* En caso de no introducir una opción válida, el programa informará de que no es correcta."
   ]
  },
  {
   "cell_type": "code",
   "execution_count": 5,
   "metadata": {},
   "outputs": [
    {
     "name": "stdout",
     "output_type": "stream",
     "text": [
      "Calculadora\n",
      "Seleccione una opción\n",
      "    1. Suma de dos números\n",
      "    2. Resta de dos numeros\n",
      "    3. Multiplicación de dos números\n",
      "    4. Salir\n",
      ">> 3\n",
      "Introduzca el primer número: 5\n",
      "Introduzca el segundo número: 4\n",
      "La multiplicación es: 20\n",
      "Seleccione una opción\n",
      "    1. Suma de dos números\n",
      "    2. Resta de dos numeros\n",
      "    3. Multiplicación de dos números\n",
      "    4. Salir\n",
      ">> 4\n",
      "¡Hasta Luego!\n"
     ]
    }
   ],
   "source": [
    "# Completa el ejercicio aquí\n",
    "print('Calculadora')\n",
    "while True:\n",
    "    print('''Seleccione una opción\n",
    "    1. Suma de dos números\n",
    "    2. Resta de dos numeros\n",
    "    3. Multiplicación de dos números\n",
    "    4. Salir''')\n",
    "    opcion = int(input('>> '))\n",
    "    \n",
    "    if opcion > 0 and opcion < 4:\n",
    "        n1 = int(input('Introduzca el primer número: '))\n",
    "        n2 = int(input('Introduzca el segundo número: '))\n",
    "    if opcion == 1:\n",
    "        print('La suma es:', n1 + n2)\n",
    "    elif opcion == 2:\n",
    "        print('La resta es:', n1 - n2)\n",
    "    elif opcion == 3:\n",
    "        print('La multiplicación es:', n1 * n2)\n",
    "    elif opcion == 4:\n",
    "        print('¡Hasta Luego!')\n",
    "        break\n",
    "    else:\n",
    "        print('Opción no valida')"
   ]
  },
  {
   "cell_type": "markdown",
   "metadata": {},
   "source": [
    "**2) Realiza un programa que lea un número impar por teclado. Si el usuario no introduce un número impar, debe repetise el proceso hasta que lo introduzca correctamente.**"
   ]
  },
  {
   "cell_type": "code",
   "execution_count": 8,
   "metadata": {},
   "outputs": [
    {
     "name": "stdout",
     "output_type": "stream",
     "text": [
      "Introduce un número impar: 2\n",
      "Introduce un número impar: 4\n",
      "Introduce un número impar: 3\n"
     ]
    }
   ],
   "source": [
    "# Completa el ejercicio aquí\n",
    "numero = 0\n",
    "while numero % 2 == 0:\n",
    "    numero = int(input('Introduce un número impar: '))"
   ]
  },
  {
   "cell_type": "markdown",
   "metadata": {},
   "source": [
    "**3) Realiza un programa que sume todos los números enteros pares desde el 0 hasta el 100:**\n",
    "\n",
    "*Sugerencia: Puedes utilizar la funciones sum() y range() para hacerlo más fácil. El tercer parámetro en la función range(inicio, fin, salto) indica un salto de números, pruébalo.*"
   ]
  },
  {
   "cell_type": "code",
   "execution_count": 22,
   "metadata": {},
   "outputs": [
    {
     "name": "stdout",
     "output_type": "stream",
     "text": [
      "2550\n"
     ]
    }
   ],
   "source": [
    "# Completa el ejercicio aquí\n",
    "suma_pares = sum(list(range(0,101,2)))\n",
    "print(suma_pares)"
   ]
  },
  {
   "cell_type": "markdown",
   "metadata": {},
   "source": [
    "**4) Realiza un programa que pida al usuario cuantos números quiere introducir. Luego lee todos los números y realiza una media aritmética:**\n"
   ]
  },
  {
   "cell_type": "code",
   "execution_count": 23,
   "metadata": {},
   "outputs": [
    {
     "name": "stdout",
     "output_type": "stream",
     "text": [
      "¿Cuantos números desea introducir? >> 3\n",
      "Ingrese el numero: 10\n",
      "Ingrese el numero: 10\n",
      "Ingrese el numero: 10\n",
      "Media: 10.0\n"
     ]
    }
   ],
   "source": [
    "# Completa el ejercicio aquí\n",
    "cantidad = int(input('¿Cuantos números desea introducir? >> '))\n",
    "suma = 0\n",
    "\n",
    "for i in range(cantidad):\n",
    "    suma += float(input('Ingrese el numero: '))\n",
    "\n",
    "print('Media:', suma/cantidad)"
   ]
  },
  {
   "cell_type": "markdown",
   "metadata": {},
   "source": [
    "**5) Realiza un programa que pida al usuario un número entero del 0 al 9, y que mientras el número no sea correcto se repita el proceso. Luego debe comprobar si el número se encuentra en la lista de números y notificarlo:**\n",
    "\n",
    "*Consejo: La sintaxis \"valor in lista\" permite comprobar fácilmente si un valor se encuentra en una lista (devuelve True o False)*"
   ]
  },
  {
   "cell_type": "code",
   "execution_count": 13,
   "metadata": {},
   "outputs": [
    {
     "name": "stdout",
     "output_type": "stream",
     "text": [
      "Ingresa un número entre el 0 y el 9: 3\n",
      "El numero se encuentra en la lista\n"
     ]
    }
   ],
   "source": [
    "# Completa el ejercicio aquí\n",
    "numeros = [1, 3, 6, 9]\n",
    "numero = -1\n",
    "while numero > 9 or numero < 0:\n",
    "    numero = int(input('Ingresa un número entre el 0 y el 9: '))\n",
    "if numero in numeros:\n",
    "    print('El numero se encuentra en la lista')"
   ]
  },
  {
   "cell_type": "markdown",
   "metadata": {},
   "source": [
    "**6) Utilizando la función range() y la conversión a listas genera las siguientes listas dinámicamente:**\n",
    "* Todos los números del 0 al 10 [0, 1, 2, ..., 10]\n",
    "* Todos los números del -10 al 0 [-10, -9, -8, ..., 0]\n",
    "* Todos los números pares del 0 al 20 [0, 2, 4, ..., 20]\n",
    "* Todos los números impares entre -20 y 0 [-19, -17, -15, ..., -1]\n",
    "* Todos los números múltiples de 5 del 0 al 50 [0, 5, 10, ..., 50]\n",
    "\n",
    "*Pista: Utiliza el tercer parámetro de la función range(inicio, fin, salto).*"
   ]
  },
  {
   "cell_type": "code",
   "execution_count": 18,
   "metadata": {},
   "outputs": [
    {
     "name": "stdout",
     "output_type": "stream",
     "text": [
      "[0, 1, 2, 3, 4, 5, 6, 7, 8, 9, 10]\n",
      "[-10, -9, -8, -7, -6, -5, -4, -3, -2, -1, 0]\n",
      "[0, 2, 4, 6, 8, 10, 12, 14, 16, 18, 20]\n",
      "[-19, -17, -15, -13, -11, -9, -7, -5, -3, -1]\n",
      "[0, 5, 10, 15, 20, 25, 30, 35, 40, 45, 50]\n"
     ]
    }
   ],
   "source": [
    "# Completa el ejercicio\n",
    "print(list(range(11)))\n",
    "print(list(range(-10,1)))\n",
    "print(list(range(0, 21, 2)))\n",
    "print(list(range(-19, 0, 2)))\n",
    "print(list(range(0,51,5)))"
   ]
  },
  {
   "cell_type": "markdown",
   "metadata": {},
   "source": [
    "**7) Dadas dos listas, debes generar una tercera con todos los elementos que se repitan en ellas, pero no debe repetise ningún elemento en la nueva lista:**"
   ]
  },
  {
   "cell_type": "code",
   "execution_count": 21,
   "metadata": {},
   "outputs": [
    {
     "data": {
      "text/plain": [
       "[0, 2, 4, 6, 8, 10, 1, 3, 5, 13]"
      ]
     },
     "execution_count": 21,
     "metadata": {},
     "output_type": "execute_result"
    }
   ],
   "source": [
    "# Completa el ejercicio aquí\n",
    "l1 = [0,2,4,6,8,10]\n",
    "l2 = [1,1,2,3,5,8,13]\n",
    "l3 = l1\n",
    "\n",
    "for elemento in l2:\n",
    "    if elemento in l3:\n",
    "        continue\n",
    "    l3.append(elemento)\n",
    "l3"
   ]
  },
  {
   "cell_type": "code",
   "execution_count": null,
   "metadata": {},
   "outputs": [],
   "source": []
  }
 ],
 "metadata": {
  "anaconda-cloud": {},
  "kernelspec": {
   "display_name": "Python 3",
   "language": "python",
   "name": "python3"
  },
  "language_info": {
   "codemirror_mode": {
    "name": "ipython",
    "version": 3
   },
   "file_extension": ".py",
   "mimetype": "text/x-python",
   "name": "python",
   "nbconvert_exporter": "python",
   "pygments_lexer": "ipython3",
   "version": "3.7.0"
  }
 },
 "nbformat": 4,
 "nbformat_minor": 1
}
