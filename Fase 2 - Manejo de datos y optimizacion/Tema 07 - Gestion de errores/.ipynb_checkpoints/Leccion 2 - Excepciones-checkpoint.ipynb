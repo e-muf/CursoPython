{
 "cells": [
  {
   "cell_type": "code",
   "execution_count": 1,
   "metadata": {},
   "outputs": [
    {
     "name": "stdout",
     "output_type": "stream",
     "text": [
      "Introduce un número: aaaa\n"
     ]
    },
    {
     "ename": "ValueError",
     "evalue": "could not convert string to float: 'aaaa'",
     "output_type": "error",
     "traceback": [
      "\u001b[0;31m---------------------------------------------------------------------------\u001b[0m",
      "\u001b[0;31mValueError\u001b[0m                                Traceback (most recent call last)",
      "\u001b[0;32m<ipython-input-1-26a775c5809e>\u001b[0m in \u001b[0;36m<module>\u001b[0;34m()\u001b[0m\n\u001b[0;32m----> 1\u001b[0;31m \u001b[0mn\u001b[0m \u001b[0;34m=\u001b[0m \u001b[0mfloat\u001b[0m\u001b[0;34m(\u001b[0m\u001b[0minput\u001b[0m\u001b[0;34m(\u001b[0m\u001b[0;34m'Introduce un número: '\u001b[0m\u001b[0;34m)\u001b[0m\u001b[0;34m)\u001b[0m\u001b[0;34m\u001b[0m\u001b[0m\n\u001b[0m\u001b[1;32m      2\u001b[0m \u001b[0mm\u001b[0m \u001b[0;34m=\u001b[0m \u001b[0;36m4\u001b[0m\u001b[0;34m\u001b[0m\u001b[0m\n\u001b[1;32m      3\u001b[0m \u001b[0mprint\u001b[0m\u001b[0;34m(\u001b[0m\u001b[0;34m'{}/{}={}'\u001b[0m\u001b[0;34m.\u001b[0m\u001b[0mformat\u001b[0m\u001b[0;34m(\u001b[0m\u001b[0mn\u001b[0m\u001b[0;34m,\u001b[0m\u001b[0mm\u001b[0m\u001b[0;34m,\u001b[0m\u001b[0mn\u001b[0m\u001b[0;34m/\u001b[0m\u001b[0mm\u001b[0m\u001b[0;34m)\u001b[0m\u001b[0;34m)\u001b[0m\u001b[0;34m\u001b[0m\u001b[0m\n",
      "\u001b[0;31mValueError\u001b[0m: could not convert string to float: 'aaaa'"
     ]
    }
   ],
   "source": [
    "n = float(input('Introduce un número: '))\n",
    "m = 4\n",
    "print('{}/{}={}'.format(n,m,n/m))"
   ]
  },
  {
   "cell_type": "code",
   "execution_count": 3,
   "metadata": {},
   "outputs": [
    {
     "name": "stdout",
     "output_type": "stream",
     "text": [
      "Introduce un número: aaaa\n",
      "Ha ocurrido un error, introduce bien el número\n",
      "Introduce un número: werwef\n",
      "Ha ocurrido un error, introduce bien el número\n",
      "Introduce un número: 10\n",
      "10.0/4=2.5\n"
     ]
    }
   ],
   "source": [
    "while True:\n",
    "    try:\n",
    "        n = float(input('Introduce un número: '))\n",
    "        m = 4\n",
    "        print('{}/{}={}'.format(n,m,n/m))\n",
    "        break # Importante romper la iteración si todo ha salido bien\n",
    "    except:\n",
    "        print('Ha ocurrido un error, introduce bien el número')"
   ]
  },
  {
   "cell_type": "code",
   "execution_count": 5,
   "metadata": {},
   "outputs": [
    {
     "name": "stdout",
     "output_type": "stream",
     "text": [
      "Introduce un número: sdfdsf\n",
      "Ha ocurrido un error, introduce bien el número\n",
      "Introduce un número: 10\n",
      "10.0/4=2.5\n",
      "Todo ha funcionado correctamente\n"
     ]
    }
   ],
   "source": [
    "while True:\n",
    "    try:\n",
    "        n = float(input('Introduce un número: '))\n",
    "        m = 4\n",
    "        print('{}/{}={}'.format(n,m,n/m))\n",
    "    except:\n",
    "        print('Ha ocurrido un error, introduce bien el número')\n",
    "    else:\n",
    "        print('Todo ha funcionado correctamente')\n",
    "        break # Importante romper la iteración si todo ha salido bien"
   ]
  },
  {
   "cell_type": "code",
   "execution_count": 6,
   "metadata": {},
   "outputs": [
    {
     "name": "stdout",
     "output_type": "stream",
     "text": [
      "Introduce un número: asdf\n",
      "Ha ocurrido un error, introduce bien el número\n",
      "Fin de la iteracion\n",
      "Introduce un número: 10\n",
      "10.0/4=2.5\n",
      "Todo ha funcionado correctamente\n",
      "Fin de la iteracion\n"
     ]
    }
   ],
   "source": [
    "while True:\n",
    "    try:\n",
    "        n = float(input('Introduce un número: '))\n",
    "        m = 4\n",
    "        print('{}/{}={}'.format(n,m,n/m))\n",
    "    except:\n",
    "        print('Ha ocurrido un error, introduce bien el número')\n",
    "    else:\n",
    "        print('Todo ha funcionado correctamente')\n",
    "        break # Importante romper la iteración si todo ha salido bien\n",
    "    finally:\n",
    "        print('Fin de la iteracion')"
   ]
  },
  {
   "cell_type": "code",
   "execution_count": null,
   "metadata": {},
   "outputs": [],
   "source": []
  }
 ],
 "metadata": {
  "kernelspec": {
   "display_name": "Python 3",
   "language": "python",
   "name": "python3"
  },
  "language_info": {
   "codemirror_mode": {
    "name": "ipython",
    "version": 3
   },
   "file_extension": ".py",
   "mimetype": "text/x-python",
   "name": "python",
   "nbconvert_exporter": "python",
   "pygments_lexer": "ipython3",
   "version": "3.7.0"
  }
 },
 "nbformat": 4,
 "nbformat_minor": 1
}
