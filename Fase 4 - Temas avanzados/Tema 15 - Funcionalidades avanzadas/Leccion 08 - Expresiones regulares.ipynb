{
 "cells": [
  {
   "cell_type": "markdown",
   "metadata": {},
   "source": [
    "# Expresiones regulares"
   ]
  },
  {
   "cell_type": "code",
   "execution_count": 1,
   "metadata": {},
   "outputs": [
    {
     "data": {
      "text/plain": [
       "<re.Match object; span=(40, 46), match='mágica'>"
      ]
     },
     "execution_count": 1,
     "metadata": {},
     "output_type": "execute_result"
    }
   ],
   "source": [
    "import re\n",
    "\n",
    "texto = 'En esta cadena se encuentra una palabra mágica'\n",
    "\n",
    "re.search('mágica', texto)"
   ]
  },
  {
   "cell_type": "code",
   "execution_count": 2,
   "metadata": {},
   "outputs": [],
   "source": [
    "re.search('hola', texto)"
   ]
  },
  {
   "cell_type": "code",
   "execution_count": 7,
   "metadata": {},
   "outputs": [],
   "source": [
    "palabra = 'mágica'\n",
    "\n",
    "encontrado = re.search(palabra, texto)"
   ]
  },
  {
   "cell_type": "code",
   "execution_count": 8,
   "metadata": {},
   "outputs": [
    {
     "name": "stdout",
     "output_type": "stream",
     "text": [
      "Se ha encontrado la palabra\n"
     ]
    }
   ],
   "source": [
    "if encontrado is not None:\n",
    "    print('Se ha encontrado la palabra')\n",
    "else:\n",
    "    print('No se ha encontrado la palabra')"
   ]
  },
  {
   "cell_type": "code",
   "execution_count": 9,
   "metadata": {},
   "outputs": [
    {
     "data": {
      "text/plain": [
       "40"
      ]
     },
     "execution_count": 9,
     "metadata": {},
     "output_type": "execute_result"
    }
   ],
   "source": [
    "# Posición en la que se encuentra la palabra\n",
    "encontrado.start()"
   ]
  },
  {
   "cell_type": "code",
   "execution_count": 10,
   "metadata": {},
   "outputs": [
    {
     "data": {
      "text/plain": [
       "46"
      ]
     },
     "execution_count": 10,
     "metadata": {},
     "output_type": "execute_result"
    }
   ],
   "source": [
    "# Posición en la que acaba la palabra\n",
    "encontrado.end()"
   ]
  },
  {
   "cell_type": "code",
   "execution_count": 11,
   "metadata": {},
   "outputs": [
    {
     "data": {
      "text/plain": [
       "(40, 46)"
      ]
     },
     "execution_count": 11,
     "metadata": {},
     "output_type": "execute_result"
    }
   ],
   "source": [
    "# Tupla en donde empieza y termina\n",
    "encontrado.span()"
   ]
  },
  {
   "cell_type": "code",
   "execution_count": 12,
   "metadata": {},
   "outputs": [
    {
     "data": {
      "text/plain": [
       "'En esta cadena se encuentra una palabra mágica'"
      ]
     },
     "execution_count": 12,
     "metadata": {},
     "output_type": "execute_result"
    }
   ],
   "source": [
    "encontrado.string"
   ]
  },
  {
   "cell_type": "code",
   "execution_count": 15,
   "metadata": {},
   "outputs": [
    {
     "data": {
      "text/plain": [
       "<re.Match object; span=(0, 4), match='Hola'>"
      ]
     },
     "execution_count": 15,
     "metadata": {},
     "output_type": "execute_result"
    }
   ],
   "source": [
    "texto = 'Hola mundo'\n",
    "re.match('Hola', texto)"
   ]
  },
  {
   "cell_type": "code",
   "execution_count": 16,
   "metadata": {},
   "outputs": [],
   "source": [
    "re.match('hola', texto)"
   ]
  },
  {
   "cell_type": "code",
   "execution_count": 17,
   "metadata": {},
   "outputs": [
    {
     "data": {
      "text/plain": [
       "['Vamos', 'a', 'dividir', 'esta', 'cadena']"
      ]
     },
     "execution_count": 17,
     "metadata": {},
     "output_type": "execute_result"
    }
   ],
   "source": [
    "texto = 'Vamos a dividir esta cadena'\n",
    "re.split(' ', texto)"
   ]
  },
  {
   "cell_type": "code",
   "execution_count": 18,
   "metadata": {},
   "outputs": [
    {
     "data": {
      "text/plain": [
       "'Hola amiga'"
      ]
     },
     "execution_count": 18,
     "metadata": {},
     "output_type": "execute_result"
    }
   ],
   "source": [
    "texto = 'Hola amigo'\n",
    "re.sub('amigo', 'amiga', texto)"
   ]
  },
  {
   "cell_type": "code",
   "execution_count": 19,
   "metadata": {},
   "outputs": [
    {
     "data": {
      "text/plain": [
       "['hola', 'hola', 'hola']"
      ]
     },
     "execution_count": 19,
     "metadata": {},
     "output_type": "execute_result"
    }
   ],
   "source": [
    "texto = 'hola adios hola hola'\n",
    "re.findall('hola', texto)"
   ]
  },
  {
   "cell_type": "code",
   "execution_count": 20,
   "metadata": {},
   "outputs": [
    {
     "data": {
      "text/plain": [
       "3"
      ]
     },
     "execution_count": 20,
     "metadata": {},
     "output_type": "execute_result"
    }
   ],
   "source": [
    "len(re.findall('hola', texto))"
   ]
  },
  {
   "cell_type": "code",
   "execution_count": 21,
   "metadata": {},
   "outputs": [
    {
     "data": {
      "text/plain": [
       "4"
      ]
     },
     "execution_count": 21,
     "metadata": {},
     "output_type": "execute_result"
    }
   ],
   "source": [
    "len(re.findall('a', texto))"
   ]
  },
  {
   "cell_type": "code",
   "execution_count": 23,
   "metadata": {},
   "outputs": [
    {
     "data": {
      "text/plain": [
       "['hola', 'hello']"
      ]
     },
     "execution_count": 23,
     "metadata": {},
     "output_type": "execute_result"
    }
   ],
   "source": [
    "texto = 'hola adios hello bye'\n",
    "\n",
    "re.findall('(hola|hello)', texto)"
   ]
  },
  {
   "cell_type": "code",
   "execution_count": 24,
   "metadata": {},
   "outputs": [
    {
     "data": {
      "text/plain": [
       "['hla']"
      ]
     },
     "execution_count": 24,
     "metadata": {},
     "output_type": "execute_result"
    }
   ],
   "source": [
    "texto = 'hla hola hoola hooola hooooola'\n",
    "\n",
    "re.findall('hla',texto)"
   ]
  },
  {
   "cell_type": "code",
   "execution_count": 25,
   "metadata": {},
   "outputs": [
    {
     "data": {
      "text/plain": [
       "['hola']"
      ]
     },
     "execution_count": 25,
     "metadata": {},
     "output_type": "execute_result"
    }
   ],
   "source": [
    "re.findall('hola',texto)"
   ]
  },
  {
   "cell_type": "code",
   "execution_count": 26,
   "metadata": {},
   "outputs": [
    {
     "name": "stdout",
     "output_type": "stream",
     "text": [
      "['hla']\n",
      "['hola']\n",
      "['hoola']\n"
     ]
    }
   ],
   "source": [
    "def buscar(patrones, texto):\n",
    "    for patron in patrones:\n",
    "        print(re.findall(patron, texto))\n",
    "        \n",
    "patrones = ['hla', 'hola', 'hoola']\n",
    "buscar(patrones, texto)"
   ]
  },
  {
   "cell_type": "code",
   "execution_count": 33,
   "metadata": {},
   "outputs": [
    {
     "name": "stdout",
     "output_type": "stream",
     "text": [
      "['ho', 'ho', 'ho', 'ho']\n",
      "['h', 'ho', 'hoo', 'hooo', 'hooooo']\n",
      "['hla', 'hola', 'hoola', 'hooola', 'hooooola']\n",
      "['hla']\n"
     ]
    }
   ],
   "source": [
    "texto = 'hla hola hoola hooola hooooola'\n",
    "\n",
    "patrones = ['ho', 'ho*', 'ho*la', 'hu*la']\n",
    "\n",
    "buscar(patrones, texto)"
   ]
  },
  {
   "cell_type": "code",
   "execution_count": 36,
   "metadata": {},
   "outputs": [
    {
     "name": "stdout",
     "output_type": "stream",
     "text": [
      "['h', 'ho', 'hoo', 'hooo', 'hooooo']\n",
      "['ho', 'hoo', 'hooo', 'hooooo']\n",
      "['h', 'ho', 'ho', 'ho', 'ho']\n",
      "['hla', 'hola']\n"
     ]
    }
   ],
   "source": [
    "texto = 'hla hola hoola hooola hooooola'\n",
    "\n",
    "patrones = ['ho*', 'ho+', 'ho?', 'ho?la']\n",
    "\n",
    "buscar(patrones, texto)"
   ]
  },
  {
   "cell_type": "code",
   "execution_count": 40,
   "metadata": {},
   "outputs": [
    {
     "name": "stdout",
     "output_type": "stream",
     "text": [
      "['hla']\n",
      "['hola']\n",
      "['hooola']\n"
     ]
    }
   ],
   "source": [
    "texto = 'hla hola hoola hooola hoooola'\n",
    "\n",
    "patrones = ['ho{0}la', 'ho{1}la', 'ho{3}la']\n",
    "\n",
    "buscar(patrones, texto)"
   ]
  },
  {
   "cell_type": "code",
   "execution_count": 43,
   "metadata": {},
   "outputs": [
    {
     "name": "stdout",
     "output_type": "stream",
     "text": [
      "['hla', 'hola']\n",
      "['hola', 'hoola']\n",
      "['hoola', 'hooola', 'hoooola']\n"
     ]
    }
   ],
   "source": [
    "texto = 'hla hola hoola hooola hoooola'\n",
    "\n",
    "patrones = ['ho{0,1}la', 'ho{1,2}la', 'ho{2,10}la']\n",
    "\n",
    "buscar(patrones, texto)"
   ]
  },
  {
   "cell_type": "code",
   "execution_count": 45,
   "metadata": {},
   "outputs": [
    {
     "name": "stdout",
     "output_type": "stream",
     "text": [
      "['hola', 'hula']\n",
      "['hala', 'hila', 'hola']\n",
      "['hala', 'hela', 'hila', 'hola', 'hula']\n"
     ]
    }
   ],
   "source": [
    "texto = 'hala hela hila hola hula'\n",
    "\n",
    "patrones = ['h[ou]la', 'h[aio]la', 'h[aeiou]la']\n",
    "\n",
    "buscar(patrones, texto)"
   ]
  },
  {
   "cell_type": "code",
   "execution_count": 49,
   "metadata": {},
   "outputs": [
    {
     "name": "stdout",
     "output_type": "stream",
     "text": [
      "[]\n",
      "['haala', 'heeela']\n",
      "['hiiiila', 'hooooola']\n"
     ]
    }
   ],
   "source": [
    "texto = 'haala heeela hiiiila hooooola huuuuuula'\n",
    "\n",
    "patrones = ['h[ae]la', 'h[ae]*la', 'h[io]{3,9}la']\n",
    "\n",
    "buscar(patrones, texto)"
   ]
  },
  {
   "cell_type": "code",
   "execution_count": 51,
   "metadata": {},
   "outputs": [
    {
     "name": "stdout",
     "output_type": "stream",
     "text": [
      "['hola']\n",
      "['hala', 'hela', 'hila', 'hula']\n"
     ]
    }
   ],
   "source": [
    "texto = 'hala hela hila hola hula'\n",
    "\n",
    "patrones = ['h[o]la', 'h[^o]la']\n",
    "\n",
    "buscar(patrones, texto)"
   ]
  },
  {
   "cell_type": "code",
   "execution_count": 55,
   "metadata": {},
   "outputs": [
    {
     "name": "stdout",
     "output_type": "stream",
     "text": [
      "['hola']\n",
      "['h0la']\n",
      "['hola', 'Hola', 'mola']\n",
      "['Hola', 'M0la']\n"
     ]
    }
   ],
   "source": [
    "texto = 'hola h0la Hola mola m0la M0la'\n",
    "\n",
    "patrones = ['h[a-z]la', 'h[0-9]la', '[A-z]{4}', '[A-Z][A-z0-9]{3}']\n",
    "\n",
    "buscar(patrones, texto)"
   ]
  },
  {
   "cell_type": "code",
   "execution_count": 66,
   "metadata": {},
   "outputs": [
    {
     "name": "stdout",
     "output_type": "stream",
     "text": [
      "['3', '2', '0', '1', '6']\n",
      "['3', '2016']\n",
      "['E', 's', 't', 'e', ' ', 'c', 'u', 'r', 's', 'o', ' ', 'd', 'e', ' ', 'P', 'y', 't', 'h', 'o', 'n', ' ', ' ', 's', 'e', ' ', 'p', 'u', 'b', 'l', 'i', 'c', 'ó', ' ', 'e', 'n', ' ', 'e', 'l', ' ', 'a', 'ñ', 'o', ' ']\n",
      "['Este curso de Python ', ' se publicó en el año ']\n",
      "[' ', ' ', ' ', ' ', ' ', ' ', ' ', ' ', ' ', ' ']\n",
      "['E', 's', 't', 'e', 'c', 'u', 'r', 's', 'o', 'd', 'e', 'P', 'y', 't', 'h', 'o', 'n', '3', 's', 'e', 'p', 'u', 'b', 'l', 'i', 'c', 'ó', 'e', 'n', 'e', 'l', 'a', 'ñ', 'o', '2', '0', '1', '6']\n",
      "['Este', 'curso', 'de', 'Python', '3', 'se', 'publicó', 'en', 'el', 'año', '2016']\n",
      "['E', 's', 't', 'e', 'c', 'u', 'r', 's', 'o', 'd', 'e', 'P', 'y', 't', 'h', 'o', 'n', '3', 's', 'e', 'p', 'u', 'b', 'l', 'i', 'c', 'ó', 'e', 'n', 'e', 'l', 'a', 'ñ', 'o', '2', '0', '1', '6']\n",
      "['Este', 'curso', 'de', 'Python', '3', 'se', 'publicó', 'en', 'el', 'año', '2016']\n"
     ]
    }
   ],
   "source": [
    "texto = 'Este curso de Python 3 se publicó en el año 2016'\n",
    "\n",
    "patrones = [r'\\d', r'\\d+', r'\\D', r'\\D+', r'\\s', r'\\S', r'\\S+', r'\\w', r'\\w+']\n",
    "\n",
    "buscar(patrones, texto)"
   ]
  },
  {
   "cell_type": "code",
   "execution_count": null,
   "metadata": {},
   "outputs": [],
   "source": []
  }
 ],
 "metadata": {
  "anaconda-cloud": {},
  "kernelspec": {
   "display_name": "Python 3",
   "language": "python",
   "name": "python3"
  },
  "language_info": {
   "codemirror_mode": {
    "name": "ipython",
    "version": 3
   },
   "file_extension": ".py",
   "mimetype": "text/x-python",
   "name": "python",
   "nbconvert_exporter": "python",
   "pygments_lexer": "ipython3",
   "version": "3.7.0"
  }
 },
 "nbformat": 4,
 "nbformat_minor": 1
}
